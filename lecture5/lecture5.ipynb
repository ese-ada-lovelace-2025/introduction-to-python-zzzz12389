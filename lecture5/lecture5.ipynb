{
 "cells": [
  {
   "cell_type": "code",
   "execution_count": 1,
   "metadata": {},
   "outputs": [],
   "source": [
    "import pybryt\n",
    "from lecture import pybryt_reference"
   ]
  },
  {
   "cell_type": "markdown",
   "metadata": {},
   "source": [
    "# Introduction to Python\n",
    "\n",
    "# Lecture 5\n",
    "\n",
    "## Introduction\n",
    "\n",
    "As we saw in [lecture 4](..\\lecture4\\lecture4.ipynb), Python classes combine a storing data (attributes) and functions (methods) that process that data. They act as a way to create new data types. In the previous lecture, we learned some of the individual features of classes. In this section we will learn to put multiple features together to implement and improve a class based on the functionality we need it to provide.\n",
    "\n",
    "## Example 1: Quaternions\n",
    "\n",
    "Just as complex numbers extend the set of real numbers into a \"two-dimensional\" space, [quaternions](https://en.wikipedia.org/wiki/Quaternion) extend the concept of \"2D\" complex numbers into a \"four-dimensional\" space. Quaternions are used in computer graphics, control theory, signal processing, and orbital mechanics, and more generally in areas involving applying multiple rotations or scalings using floating point arthimetic. In the realm of science, they are also used in physics to describe the quantum spin of a particle. We are going to briefly describe the mathematical properties of quaternions as numbers and then you will work to implement a class to represent them.\n",
    "\n",
    "### Basic Definition\n",
    "\n",
    "A quarterions is an object (viewed as a single number) consisting four real coefficients, say $a$, $b$, $c$, and $d$, along with rules for addition, mutilplication by a scalar, and multiplication by another quaternion. The rules are as follows:\n",
    "\n",
    "1. Addition: \n",
    "  $$(a, b, c, d) + (e, f, g, h) = (a+e, b+f, c+g, d+h)$$\n",
    "2. Multiplication by a scalar:\n",
    "  $$r(a, b, c, d) = (ra, rb, rc, rd)$$\n",
    "3. Multiplication by another quaternion: \n",
    "  $$(a, b, c, d)(e, f, g, h) = (ae - bf - cg - dh, af + be + ch - dg, ag - bh + ce + df, ah + bg - cf + de)$$\n",
    "These rules are enough to define the quaternions as a number system, as well as a [vector space](https://en.wikipedia.org/wiki/Vector_space) over the real numbers.\n",
    "\n",
    "Just as a complex number can be written in the form $a + bi$ (or in Python in a form like `1+2j`), a quaternion can be written in the form $a + bi + cj + dk$. This means they keep both engineers and mathematicians happy by having `i` & `j` both denote complex components of the number.\n",
    "\n",
    "By the rules of multiplication above we have:\n",
    "$$ i^2 = j^2 = k^2 = ijk = -1, $$\n",
    "$$ ij = k, \\quad jk = i, \\quad ki = j. $$\n",
    "In this sense, we can think of the $i$, $j$ and $k$ as three separate complex dimensions.\n",
    "\n",
    "### Implementing Quaternions\n",
    "\n",
    "This is enough information to start implementing a class to represent quaternions. We'll do this in a single cell immediately below. As you work through this section, we'll add more features to the class, and need to re-run the cell to update the class definition. If anything doesn't work or your results get confusing, try restarting the Python kernel and re-running that cell to see it it cleans up the problem.\n",
    "\n",
    "#### The Class Definition cell"
   ]
  },
  {
   "cell_type": "code",
   "execution_count": 2,
   "metadata": {},
   "outputs": [],
   "source": [
    "# Remember to re-run this cell after you've modified the class below\n",
    "# Carry on reading to see what to implement.\n",
    "\n",
    "\n",
    "class Quaternion:\n",
    "    \"\"\"Initializes a quaternion with the given values.\n",
    "\n",
    "    The first value is the real part, the rest are the imaginary parts. The imaginary\n",
    "    parts are i, j, and k.  For example, Quaternion(1, 2, 3, 4) represents the\n",
    "    quaternion 1 + 2i + 3j + 4k.\n",
    "\n",
    "    \"\"\"\n",
    "\n",
    "    def __init__(self, a, b, c, d):\n",
    "        # Although there are no private attributes in Python, by convention, we use an\n",
    "        # underscore to indicate that an attribute is private and should not be accessed\n",
    "        # directly. This is a convention, and it is not enforced by the language.\n",
    "        self._1 = a\n",
    "        self._i = b\n",
    "        self._j = c\n",
    "        self._k = d\n",
    "\n",
    "    def __str__(self):\n",
    "        \"\"\"Returns the string representation of the quaternion.\"\"\"\n",
    "\n",
    "        # Helper function to format components\n",
    "        def format_component(value, suffix):\n",
    "            return f\" {'+' if value >= 0 else '-'} {abs(value)}{suffix}\"\n",
    "\n",
    "        # Format each component\n",
    "        components = [\n",
    "            f\"{self._1}\",\n",
    "            format_component(self._i, \"i\"),\n",
    "            format_component(self._j, \"j\"),\n",
    "            format_component(self._k, \"k\"),\n",
    "        ]\n",
    "\n",
    "        return \"\".join(components)\n",
    "\n",
    "    def __add__(self, other):\n",
    "        return Quaternion(self._1 + other._1,self._i + other._i,\n",
    "                          self._j + other._j,self._k + other._k,)"
   ]
  },
  {
   "cell_type": "markdown",
   "metadata": {},
   "source": [
    "As with most classes, the first thing to do is to implement the initialisation method so that we can create new instances of the class from appropriate information. In this case, we've done this for you, and chosen the names of the attributes to be `_1`, `_i`, `_j`, and `_k`.\n",
    "\n",
    "We've also implemented the `__str__` method, which is called when the object is printed (as well as a few other times). This is a good way to check that the initialisation method is working as expected, and we can use it to test the core class initialisation."
   ]
  },
  {
   "cell_type": "code",
   "execution_count": 3,
   "metadata": {
    "tags": [
     "nbgrader"
    ]
   },
   "outputs": [],
   "source": [
    "assert str(Quaternion(1, 2, 3, 4)) == \"1 + 2i + 3j + 4k\""
   ]
  },
  {
   "cell_type": "markdown",
   "metadata": {},
   "source": [
    "The cell block above will show no output if the class is implemented correctly. If you see a `NameError`, then make sure that you've run the cell defining the `Quaternion` class. If you see an `AssertionError`, then\n",
    "make sure you haven't changed the initialisation or `__str__` method.\n",
    "\n",
    "### Implementing the Addition Method\n",
    "\n",
    "With the code we've already given you, you'll first need to implement the addition and multiplication methods. The addition method name to use the `+` operator is `__add__`, and it takes two arguments. The first argument is always the object itself (and as with the initialisation and `__str__` methods, it is good practice to use `self` to refer to it). The second argument is the other object being added - the Python convention is to call it `other`. This means the method signature is\n",
    "\n",
    "```python\n",
    "   def __add__(self, other):\n",
    "     # method body ending with a return statement\n",
    "```\n",
    "\n",
    "Add this method to the Quaterion class above, and implement the addition rule\n",
    "\n",
    "$$a+b\\mathit{i}+c\\mathit{j}+d\\mathit{k} + e+f\\mathit{i}+g\\mathit{j}+h\\mathit{k} = a+e+(b+f)\\mathit{i}+(c+g)\\mathit{j}+(d+h)\\mathit{k}.$$\n",
    "\n",
    "Once you're done, we can test the method by adding two quaternions together (Remember to re-run the class cell above after you've made changes to the class definition). If you see a `TypeError`, then check you've added the `__add__` method correctly (and rerun the class cell). One common mistake is geting the wrong amount of white space indentation. If you see an `AssertError` then your returned value isn't right."
   ]
  },
  {
   "cell_type": "code",
   "execution_count": 4,
   "metadata": {
    "tags": [
     "nbgrader"
    ]
   },
   "outputs": [],
   "source": [
    "q1 = Quaternion(1, 2, 3, 4)\n",
    "q2 = Quaternion(5, 6, 7, 8)\n",
    "\n",
    "assert str(q1 + q2) == \"6 + 8i + 10j + 12k\", \"Got: \" + str(q1 + q2)"
   ]
  },
  {
   "cell_type": "markdown",
   "metadata": {},
   "source": [
    "### Implementing the Multiplication Method\n",
    "\n",
    "Now, we want to implement multiplication. The method name is `__mul__`, and it takes the same arguments as the addition method. This means that method signature is\n",
    "\n",
    "```python\n",
    "   def __mul__(self, other):\n",
    "     # method body ending with a return statement\n",
    "```\n",
    "\n",
    "Here the method body will need to be a little more complicated, since there are two possible cases:\n",
    "- If `other` is a scalar number, then we need to multiply each component of the quaternion by `other`.\n",
    "- If `other` is another quaternion, then we need to use the multiplication rule above.\n",
    "\n",
    "We can check the type of `other` using the `isinstance` function. This function takes two arguments, the first is the object to check, and the second is the type to check against. It returns `True` if the object is of the given type, and `False` otherwise. For example, `isinstance(3, int)` returns `True`, and `isinstance(3, float)` returns `False`. In this case, we want to check if the `other` is a `Quaternion` object or not, using `isinstance(other, Quaternion)`.\n",
    "\n",
    "The \"quick\" way to implement scalar multiplication is just to code up the multiplication rule for quaternions, and if `other` is not a `Quaternion` object, then convert it into one with the scalar as the first component, i.e. creating `Quaternion(other, 0, 0, 0)`. Alternatively, you can use a set of `if`, `elif` and (if necessary) `else` statements to handle the cases separately. In the first case, your code will look something like\n",
    "\n",
    "```python\n",
    "def __mul__(self, other):\n",
    "   if not isinstance(other, Quaternion):\n",
    "      other = Quaternion(other, 0, 0, 0)\n",
    "  # rest of the method body    \n",
    "```\n",
    "\n",
    "in the second case, your code will look something like\n",
    "\n",
    "```python\n",
    "def __mul__(self, other):\n",
    "   if isinstance(other, Quaternion):\n",
    "      # result = multiplication rule for quaternion\n",
    "      return result\n",
    "   else:\n",
    "      # multiplication rule for scalar\n",
    "      return result\n",
    "```\n",
    " \n",
    "Try to implement all this, and then run our test cases below."
   ]
  },
  {
   "cell_type": "code",
   "execution_count": 5,
   "metadata": {},
   "outputs": [],
   "source": [
    "class Quaternion:\n",
    "\n",
    "    def __init__(self, a, b, c, d):\n",
    "        # Although there are no private attributes in Python, by convention, we use an\n",
    "        # underscore to indicate that an attribute is private and should not be accessed\n",
    "        # directly. This is a convention, and it is not enforced by the language.\n",
    "        self._1 = a\n",
    "        self._i = b\n",
    "        self._j = c\n",
    "        self._k = d\n",
    "        \n",
    "    def __mul__(self,other):\n",
    "        if not isinstance(other, Quaternion):\n",
    "            other = Quaternion(other, 0, 0, 0)\n",
    "            \n",
    "        if isinstance(other, Quaternion):\n",
    "            result = Quaternion(self._1*other._1-self._i*other._i-self._j*other._j-self._k*other._k,\n",
    "                                self._1*other._i+self._i*other._1+self._j*other._k-self._k*other._j,\n",
    "                                self._1*other._j-self._i*other._k+self._j*other._1+self._k*other._i,\n",
    "                                self._1*other._k+self._i*other._j-self._j*other._i+self._k*other._1)\n",
    "            return result\n",
    "        else:\n",
    "            result = Quaternion(self._1*other,self._i*other,self._j*other,self._k*other)\n",
    "            return result\n",
    "    \n",
    "    def __str__(self):\n",
    "\n",
    "        return f\"{self._1} + {self._i}i + {self._j}j + {self._k}k\"\n",
    "            "
   ]
  },
  {
   "cell_type": "code",
   "execution_count": 6,
   "metadata": {
    "tags": [
     "nbgrader"
    ]
   },
   "outputs": [],
   "source": [
    "q1 = Quaternion(1, 2, 3, 4)\n",
    "q2 = Quaternion(5, 6, 7, 8)\n",
    "\n",
    "assert str(q1 * q2) == \"-60 + 12i + 30j + 24k\", \"Got: \" + str(q1 * q2)\n",
    "assert str(q2 * q1) == \"-60 + 20i + 14j + 32k\", \"Got: \" + str(q2 * q1)\n",
    "assert str(q1 * 3) == \"3 + 6i + 9j + 12k\", \"Got: \" + str(q1 * 3)"
   ]
  },
  {
   "cell_type": "markdown",
   "metadata": {},
   "source": [
    "### Additional Methods\n",
    "\n",
    "We've now implemented a method to multiply \"from the left\", i.e. solving `q * other`, but for the purposes of scalar multiplication, we also need to implement a method to multiply \"from the right\", i.e. solving `other * q`.\n",
    "\n",
    "The appropriate special method (also called a \"magic method\" or \"dunder method\") name is `__rmul__`, and it takes the same arguments as the multiplication method, except this time \"other\" is the object on the left. This means that method signature is\n",
    "\n",
    "```python\n",
    "   def __rmul__(self, other):\n",
    "       if not isinstance(other, Quaternion):\n",
    "           other = Quaternion(other, 0, 0, 0)\n",
    "       \n",
    "       return other.__mul__(self)\n",
    "```\n",
    "\n",
    "Note that we can't just call `return self.__mul__(other)` here, since for quaternions, multiplication is not commutative (i.e. `q1 * q2` is not equal to `q2 * q1` for general quaternions `q1` and `q2`). Again there are several ways to solve this, but the one involving least code is to make `other` into a `Quaternion` object if it isn't already, and then call its `__mul__` method on self (either explicity as `other.__mul__(self)` or implicitly through `other*self`).\n",
    "\n"
   ]
  },
  {
   "cell_type": "code",
   "execution_count": 7,
   "metadata": {},
   "outputs": [],
   "source": [
    "class Quaternion:\n",
    "\n",
    "    def __init__(self, a, b, c, d):\n",
    "        # Although there are no private attributes in Python, by convention, we use an\n",
    "        # underscore to indicate that an attribute is private and should not be accessed\n",
    "        # directly. This is a convention, and it is not enforced by the language.\n",
    "        self._1 = a\n",
    "        self._i = b\n",
    "        self._j = c\n",
    "        self._k = d\n",
    "        \n",
    "    def __mul__(self,other):\n",
    "        if not isinstance(other, Quaternion):\n",
    "            other = Quaternion(other, 0, 0, 0)\n",
    "            \n",
    "        if isinstance(other, Quaternion):\n",
    "            result = Quaternion(self._1*other._1-self._i*other._i-self._j*other._j-self._k*other._k,\n",
    "                                self._1*other._i+self._i*other._1+self._j*other._k-self._k*other._j,\n",
    "                                self._1*other._j-self._i*other._k+self._j*other._1+self._k*other._i,\n",
    "                                self._1*other._k+self._i*other._j-self._j*other._i+self._k*other._1)\n",
    "            return result\n",
    "        else:\n",
    "            result = Quaternion(self._1*other,self._i*other,self._j*other,self._k*other)\n",
    "            return result\n",
    "\n",
    "    def __rmul__(self, other):\n",
    "        if not isinstance(other, Quaternion):\n",
    "            other = Quaternion(other, 0, 0, 0)\n",
    "       \n",
    "        return other.__mul__(self)\n",
    "    \n",
    "    def __str__(self):\n",
    "\n",
    "        return f\"{self._1} + {self._i}i + {self._j}j + {self._k}k\""
   ]
  },
  {
   "cell_type": "code",
   "execution_count": 8,
   "metadata": {
    "tags": [
     "nbgrader"
    ]
   },
   "outputs": [],
   "source": [
    "q1 = Quaternion(1, 2, 3, 4)\n",
    "\n",
    "assert str(3 * q1) == \"3 + 6i + 9j + 12k\", \"Got: \" + str(3 * q1)"
   ]
  },
  {
   "cell_type": "markdown",
   "metadata": {},
   "source": [
    "We've now implemented the core arthmetic operations for quaternions, and can move on to more advanced features. Let's start by defining the conjugate of a quaternion. Just as the conjugate of a complex number $z= a+b\\mathit{i}$ is $\\bar{z} = a - b\\mathit{i}$,  the conjugate of a quaternion $q = a + b\\mathit{i} + c\\mathit{j} + d\\mathit{k}$ is defined as $\\bar{q} = a - b\\mathit{i} - c\\mathit{j} - \\mathit{k}$. \n",
    "\n",
    "We can implement this as a method `conjugate` that takes no additional arguments, and returns a new quaternion object with the \"imaginary\" parts negated. The method signature should be\n",
    "\n",
    "```python\n",
    "   def conjugate(self):\n",
    "     # method body ending with a return statement\n",
    "```\n",
    "\n",
    "Note that $q\\bar{q} := \\|q\\|^2 = a^2 + b^2 + c^2 + d^2$, which is a positive real number. We can define the inverse or reciprocal of a quaternion as $\\frac{\\bar{q}}{\\|q\\|^2}$, and implement this as a method `inverse`.\n",
    "```python\n",
    "   def inverse(self):\n",
    "     # method body ending with a return statement\n",
    "```\n",
    "It's not technically correct to call this division, due to the non-commutative nature of quaternion multiplication. This means that there are two \"inverse functions\" for multiplication, one which solves $xa = b$ for $x$ and one which solves $ax = b$. Using the notation $a^{-1}$ for the inverse above, the inverse from the right is $ba^{-1}$ and the inverse is $a^{-1}b$.\n",
    "\n",
    "Instead of computing the magnitude $|q|$ inside the `inverse` method, implement the special `__abs__` method. This method will be called when built in `abs` function is called on a Quaternion object. Its signature is:\n",
    "```python\n",
    "   def __abs____(self):\n",
    "     # method body ending with a return statement\n",
    "```\n",
    "\n",
    "Try to implement the `conjugate` and `inverse` methods in your `Quaternion` class above, and then run the test cases below."
   ]
  },
  {
   "cell_type": "code",
   "execution_count": 9,
   "metadata": {},
   "outputs": [],
   "source": [
    "from math import sqrt\n",
    "\n",
    "class Quaternion:\n",
    "\n",
    "    def __init__(self, a, b, c, d):\n",
    "        self._1 = a\n",
    "        self._i = b\n",
    "        self._j = c\n",
    "        self._k = d\n",
    "        \n",
    "    def __mul__(self, other):\n",
    "        if not isinstance(other, Quaternion):\n",
    "            other = Quaternion(other, 0, 0, 0)\n",
    "            \n",
    "        if isinstance(other, Quaternion):\n",
    "            result = Quaternion(\n",
    "                self._1 * other._1 - self._i * other._i - self._j * other._j - self._k * other._k,\n",
    "                self._1 * other._i + self._i * other._1 + self._j * other._k - self._k * other._j,\n",
    "                self._1 * other._j - self._i * other._k + self._j * other._1 + self._k * other._i,\n",
    "                self._1 * other._k + self._i * other._j - self._j * other._i + self._k * other._1\n",
    "            )\n",
    "            return result\n",
    "        else:\n",
    "            result = Quaternion(self._1 * other, self._i * other, self._j * other, self._k * other)\n",
    "            return result\n",
    "\n",
    "    def __rmul__(self, other):\n",
    "        \n",
    "        if not isinstance(other, Quaternion):\n",
    "            other = Quaternion(other, 0, 0, 0)\n",
    "        return other.__mul__(self)\n",
    "    \n",
    "    def __str__(self):\n",
    "\n",
    "        i_str = f\"+{self._i}i\" if self._i > 0 else f\"- {-self._i}i\"\n",
    "        j_str = f\"+{self._j}j\" if self._j > 0 else f\"- {-self._j}j\"\n",
    "        k_str = f\"+{self._k}k\" if self._k > 0 else f\"- {-self._k}k\"\n",
    "        \n",
    "\n",
    "        if self._1 >= 0:\n",
    "            return f\"{self._1} {i_str[1:]} {j_str[1:]} {k_str[1:]}\" if self._i >= 0 else f\"{self._1} {i_str} {j_str} {k_str}\"\n",
    "        else:\n",
    "            return f\"{self._1} {i_str[1:]} {j_str[1:]} {k_str[1:]}\" if self._i >= 0 else f\"{self._1} {i_str} {j_str} {k_str}\"\n",
    "\n",
    "    def conjugate(self):\n",
    "        return Quaternion(self._1, -self._i, -self._j, -self._k)\n",
    "    \n",
    "    def __abs__(self):\n",
    "        return sqrt(self._1**2 + self._i**2 + self._j**2 + self._k**2)\n",
    "\n",
    "    def inverse(self):\n",
    "        magnitude_squared = abs(self)**2\n",
    "        if magnitude_squared == 0:\n",
    "            raise ZeroDivisionError(\"Cannot compute inverse of a quaternion with zero magnitude.\")\n",
    "        conjugate_q = self.conjugate()\n",
    "        return Quaternion(conjugate_q._1 / magnitude_squared,\n",
    "                          conjugate_q._i / magnitude_squared,\n",
    "                          conjugate_q._j / magnitude_squared,\n",
    "                          conjugate_q._k / magnitude_squared)\n"
   ]
  },
  {
   "cell_type": "code",
   "execution_count": 10,
   "metadata": {
    "tags": [
     "nbgrader"
    ]
   },
   "outputs": [],
   "source": [
    "q1 = Quaternion(1, 1, 1, 1)\n",
    "\n",
    "assert str(q1.conjugate()) == \"1 - 1i - 1j - 1k\", \"Got: \" + str(q1.conjugate())\n",
    "assert str(abs(q1)) == \"2.0\", \"Got: \" + str(abs(q1))\n",
    "assert str(q1.inverse()) == \"0.25 - 0.25i - 0.25j - 0.25k\", \"Got: \" + str(q1.inverse())"
   ]
  },
  {
   "cell_type": "markdown",
   "metadata": {},
   "source": [
    "### Refactoring the class (optional)\n",
    "\n",
    "We've now implemented all the basic functionality of quaternions. However, the class is not particularly user-friendly. Here is a list of some things you could improve:\n",
    "\n",
    "- The `__init__` method is currently not very user-friendly. It would be nice if we could create a quaternion in a few extra ways:\n",
    "  - Let `Quaternion(1) == Quaternion(1, 0, 0, 0)`.\n",
    "  - Let `Quaternion(1+2j) == Quaternion(1, 2, 0, 0)`.\n",
    "  - Let `Quaternion([1, 2, 3, 4]) == Quaternion(1, 2, 3, 4)`.\n",
    "  \n",
    "This can be done in a number of ways. One lower effort solution is to use the `*args` and/or `**kwargs` syntax to allow for a variable number of arguments and keyword arguments. "
   ]
  },
  {
   "cell_type": "code",
   "execution_count": 11,
   "metadata": {},
   "outputs": [
    {
     "name": "stdout",
     "output_type": "stream",
     "text": [
      "(1, 2) {}\n",
      "(1, 2, 3, 4, 5) {}\n",
      "(1, 2, 3, 4, 5) {'a': 6, 'b': 7, 'c': 8}\n"
     ]
    }
   ],
   "source": [
    "def function_with_var_args(*args, **kwargs):\n",
    "    print(args, kwargs)\n",
    "\n",
    "\n",
    "function_with_var_args(1, 2)\n",
    "function_with_var_args(1, 2, 3, 4, 5)\n",
    "function_with_var_args(1, 2, 3, 4, 5, a=6, b=7, c=8)"
   ]
  },
  {
   "cell_type": "markdown",
   "metadata": {},
   "source": [
    "Another things we can implement are:\n",
    "\n",
    "- We have implemented the `__str__` method, but not the `__repr__` method. The `__repr__` method is called when the object is printed in a list or dictionary, and should return a string that can be used to recreate the object. For example, `repr(Quaternion(1, 2, 3, 4))` should return the string `\"Quaternion(1, 2, 3, 4)\"`. If we copy/paste the output of `__repr__`, we should get the same object.\n",
    "- We have implemented the `__add__`, `__mul__` and  `__rmul__`, methods, but not the `__sub__`, `__eq__` methods (or a few others).\n"
   ]
  },
  {
   "cell_type": "code",
   "execution_count": 12,
   "metadata": {
    "tags": [
     "nbgrader"
    ]
   },
   "outputs": [
    {
     "ename": "AssertionError",
     "evalue": "",
     "output_type": "error",
     "traceback": [
      "\u001b[1;31m---------------------------------------------------------------------------\u001b[0m",
      "\u001b[1;31mAssertionError\u001b[0m                            Traceback (most recent call last)",
      "Cell \u001b[1;32mIn[12], line 1\u001b[0m\n\u001b[1;32m----> 1\u001b[0m \u001b[38;5;28;01massert\u001b[39;00m \u001b[38;5;28mrepr\u001b[39m(Quaternion(\u001b[38;5;241m1\u001b[39m, \u001b[38;5;241m-\u001b[39m\u001b[38;5;241m2\u001b[39m, \u001b[38;5;241m3\u001b[39m, \u001b[38;5;241m4\u001b[39m)) \u001b[38;5;241m==\u001b[39m \u001b[38;5;124m\"\u001b[39m\u001b[38;5;124mQuaternion(1, -2, 3, 4)\u001b[39m\u001b[38;5;124m\"\u001b[39m\n\u001b[0;32m      3\u001b[0m \u001b[38;5;28;01massert\u001b[39;00m Quaternion(\u001b[38;5;241m1\u001b[39m) \u001b[38;5;241m==\u001b[39m Quaternion(\u001b[38;5;241m1\u001b[39m, \u001b[38;5;241m0\u001b[39m, \u001b[38;5;241m0\u001b[39m, \u001b[38;5;241m0\u001b[39m)\n\u001b[0;32m      4\u001b[0m \u001b[38;5;28;01massert\u001b[39;00m Quaternion(\u001b[38;5;241m1\u001b[39m, \u001b[38;5;241m2\u001b[39m) \u001b[38;5;241m==\u001b[39m Quaternion(\u001b[38;5;241m1\u001b[39m, \u001b[38;5;241m2\u001b[39m, \u001b[38;5;241m0\u001b[39m, \u001b[38;5;241m0\u001b[39m)\n",
      "\u001b[1;31mAssertionError\u001b[0m: "
     ]
    }
   ],
   "source": [
    "assert repr(Quaternion(1, -2, 3, 4)) == \"Quaternion(1, -2, 3, 4)\"\n",
    "\n",
    "assert Quaternion(1) == Quaternion(1, 0, 0, 0)\n",
    "assert Quaternion(1, 2) == Quaternion(1, 2, 0, 0)\n",
    "assert Quaternion(b=2) == Quaternion(0, 2, 0, 0)\n",
    "\n",
    "assert Quaternion(1, 2, 3, 4) - Quaternion(5, 6, 7, 8) == Quaternion(-4, -4, -4, -4)"
   ]
  },
  {
   "cell_type": "code",
   "execution_count": null,
   "metadata": {
    "tags": [
     "pybryt"
    ]
   },
   "outputs": [],
   "source": [
    "with pybryt.check(pybryt_reference(5, 1)):\n",
    "    q1 = Quaternion(1, -2, 3, -4)\n",
    "    q2 = Quaternion(15, 2, 0, -1)\n",
    "\n",
    "    repr(q1), str(q1)\n",
    "    repr(q1 + q2)\n",
    "    repr(q2 - q1)\n",
    "    repr(5 * q1)\n",
    "    repr(q1 * q2)\n",
    "    abs(q1)\n",
    "    repr(q1.conjugate())"
   ]
  },
  {
   "cell_type": "markdown",
   "metadata": {},
   "source": [
    "## Example 2: Building Triangles\n",
    "\n",
    "### Problem Statement\n",
    "\n",
    "The second example we will consider is building a collection of classes to represent the information present in triangles. We've defined a class for points in two dimensions. You'll then use this to define a class for line segments (defined by two points), and then a class for triangles (defined by three points). We'll then add methods to calculate the area and perimeter of the triangle, and the length of the line segment.\n",
    "\n",
    "### The Point Class Defintion\n",
    "\n",
    " We'll define a class to represent a point in 2D space. You will then need to implement a line segment (to represent an edge for a triangle), and finally a triangle. We will add appropriate methods to each class to calculate the area and perimeter of a triangle and the length of a line segment."
   ]
  },
  {
   "cell_type": "code",
   "execution_count": 13,
   "metadata": {},
   "outputs": [],
   "source": [
    "from dataclasses import dataclass\n",
    "\n",
    "\n",
    "@dataclass\n",
    "class Point:\n",
    "    x: float\n",
    "    y: float"
   ]
  },
  {
   "cell_type": "markdown",
   "metadata": {},
   "source": [
    "Here we've used the `dataclass` decorator from the `dataclasses` module to define the class. This is a more concise way to define a class, and is particularly useful when the class is just a container for data.\n",
    "\n",
    "The `dataclass` decorator automatically adds an `__init__` method, and `__repr__` method, and `__eq__` method, and a few other things. The `__init__` method takes the same arguments as the class, and the `__repr__` method returns a string that can be used to recreate the object. The `__eq__` method checks if two objects are equal. "
   ]
  },
  {
   "cell_type": "code",
   "execution_count": 14,
   "metadata": {},
   "outputs": [
    {
     "name": "stdout",
     "output_type": "stream",
     "text": [
      "Point(x=1.0, y=2.0) Point(x=2.5, y=4.0)\n",
      "False\n",
      "True\n"
     ]
    }
   ],
   "source": [
    "# Examples of usage\n",
    "p1 = Point(1.0, 2.0)\n",
    "p2 = Point(x=2.5, y=4.0)\n",
    "\n",
    "print(p1, p2)\n",
    "print(p1 == p2)\n",
    "print(p1 == Point(1.0, 2.0))"
   ]
  },
  {
   "cell_type": "markdown",
   "metadata": {},
   "source": [
    "### The LineSegment Class Implementation\n",
    "\n",
    "Given the `Point` class definition above, we can now implement a `LineSegment` class which takes two `Point` objects as arguments to its `__init__` method. The `__init__` method should store these two points as attributes of the object. We'll also want a `length` method to calculate the length of the line segment."
   ]
  },
  {
   "cell_type": "code",
   "execution_count": 15,
   "metadata": {},
   "outputs": [],
   "source": [
    "class LineSegment:\n",
    "    def __init__(self, start: Point, end: Point):\n",
    "        # Write appropriate code here to store the start and end points\n",
    "        pass\n",
    "\n",
    "    def __repr__(self):\n",
    "        return f\"LineSegment({self.start}, {self.end})\"\n",
    "\n",
    "    def length(self) -> float:\n",
    "        # Write appropriate code here, updating the class to\n",
    "        # return the length of the line segment\n",
    "        pass"
   ]
  },
  {
   "cell_type": "markdown",
   "metadata": {},
   "source": [
    "Here we've used the optional \"type hints\" feature of Python to specify the types of the arguments to the `__init__` method. This is not necessary (nor it is checked), but can be useful for documentation and for catching errors. The type hints are specified in the method signature, and are separated from the argument name by a colon. For example, `p1: Point` specifies that `p1` is a `Point` object. Similarly, `-> float` suggests that the `length` method returns a `float` object. Once again, this is not checked anywhere, and only provides a hint to the user, either in code or through documentation.\n",
    "\n",
    "We'll also need some tests on the class:"
   ]
  },
  {
   "cell_type": "code",
   "execution_count": 16,
   "metadata": {
    "tags": [
     "nbgrader"
    ]
   },
   "outputs": [
    {
     "ename": "TypeError",
     "evalue": "must be real number, not NoneType",
     "output_type": "error",
     "traceback": [
      "\u001b[1;31m---------------------------------------------------------------------------\u001b[0m",
      "\u001b[1;31mTypeError\u001b[0m                                 Traceback (most recent call last)",
      "Cell \u001b[1;32mIn[16], line 6\u001b[0m\n\u001b[0;32m      3\u001b[0m p1 \u001b[38;5;241m=\u001b[39m Point(\u001b[38;5;241m0\u001b[39m, \u001b[38;5;241m0\u001b[39m)\n\u001b[0;32m      4\u001b[0m p2 \u001b[38;5;241m=\u001b[39m Point(\u001b[38;5;241m3\u001b[39m, \u001b[38;5;241m4\u001b[39m)\n\u001b[1;32m----> 6\u001b[0m \u001b[38;5;28;01massert\u001b[39;00m isclose(LineSegment(p1, p2)\u001b[38;5;241m.\u001b[39mlength(), \u001b[38;5;241m5\u001b[39m)\n",
      "\u001b[1;31mTypeError\u001b[0m: must be real number, not NoneType"
     ]
    }
   ],
   "source": [
    "from math import isclose\n",
    "\n",
    "p1 = Point(0, 0)\n",
    "p2 = Point(3, 4)\n",
    "\n",
    "assert isclose(LineSegment(p1, p2).length(), 5)"
   ]
  },
  {
   "cell_type": "markdown",
   "metadata": {},
   "source": [
    "#### Extending the LineSegment Class\n",
    "\n",
    "\n",
    "- add a method to the `LineSegment` class called `midpoint()`. It should return a `Point` object representing the midpoint of the line segment.\n",
    "- (more challenging) add a method to the `LineSegment` class called `intersects`. It should take another `LineSegment` object as an argument, and return `True` if the two line segments intersect, and `False` otherwise. You can assume that the line segments are not colinear if you'd like to reduce your workload.\n",
    "  As a hint, you can use the following algorithm to check if two line segments intersect:\n",
    "    - We can write any line segment as a parametric equation, i.e. $\\mathbf{r}(t) = \\mathbf{p}_1 + t(\\mathbf{p}_2 - \\mathbf{p}_1)$, where $\\mathbf{p}_1$ and $\\mathbf{p}_2$ are beginning and end of the line segment, and $t$ is a real number between 0 and 1.\n",
    "    - Two line segments intersect if and only if the parametric equations of the two line segments have a common solution, i.e. there exists $t_1$ and $t_2$ such that $\\mathbf{r}_1(t_1) = \\mathbf{r}_2(t_2)$.\n",
    "    - Substituting the parametric equations into the equation $\\mathbf{r}_1(t_1) = \\mathbf{r}_2(t_2)$, we get a system of 2 linear equations in $t_1$ and $t_2$. If the system has a solution (and the values of $t_1$ and $t_2$ are in the range $0-1$), then the line segments intersect."
   ]
  },
  {
   "cell_type": "code",
   "execution_count": 17,
   "metadata": {
    "tags": [
     "nbgrader"
    ]
   },
   "outputs": [
    {
     "ename": "AttributeError",
     "evalue": "'LineSegment' object has no attribute 'midpoint'",
     "output_type": "error",
     "traceback": [
      "\u001b[1;31m---------------------------------------------------------------------------\u001b[0m",
      "\u001b[1;31mAttributeError\u001b[0m                            Traceback (most recent call last)",
      "Cell \u001b[1;32mIn[17], line 4\u001b[0m\n\u001b[0;32m      1\u001b[0m p1 \u001b[38;5;241m=\u001b[39m Point(\u001b[38;5;241m-\u001b[39m\u001b[38;5;241m2\u001b[39m, \u001b[38;5;241m-\u001b[39m\u001b[38;5;241m2\u001b[39m)\n\u001b[0;32m      2\u001b[0m p2 \u001b[38;5;241m=\u001b[39m Point(\u001b[38;5;241m2\u001b[39m, \u001b[38;5;241m2\u001b[39m)\n\u001b[1;32m----> 4\u001b[0m \u001b[38;5;28;01massert\u001b[39;00m LineSegment(p1, p2)\u001b[38;5;241m.\u001b[39mmidpoint() \u001b[38;5;241m==\u001b[39m Point(\u001b[38;5;241m0\u001b[39m, \u001b[38;5;241m0\u001b[39m)\n\u001b[0;32m      6\u001b[0m line_segment1 \u001b[38;5;241m=\u001b[39m LineSegment(Point(\u001b[38;5;241m0\u001b[39m, \u001b[38;5;241m0\u001b[39m), Point(\u001b[38;5;241m10\u001b[39m, \u001b[38;5;241m10\u001b[39m))\n\u001b[0;32m      7\u001b[0m line_segment2 \u001b[38;5;241m=\u001b[39m LineSegment(Point(\u001b[38;5;241m1\u001b[39m, \u001b[38;5;241m1\u001b[39m), Point(\u001b[38;5;241m11\u001b[39m, \u001b[38;5;241m11\u001b[39m))\n",
      "\u001b[1;31mAttributeError\u001b[0m: 'LineSegment' object has no attribute 'midpoint'"
     ]
    }
   ],
   "source": [
    "p1 = Point(-2, -2)\n",
    "p2 = Point(2, 2)\n",
    "\n",
    "assert LineSegment(p1, p2).midpoint() == Point(0, 0)\n",
    "\n",
    "line_segment1 = LineSegment(Point(0, 0), Point(10, 10))\n",
    "line_segment2 = LineSegment(Point(1, 1), Point(11, 11))\n",
    "line_segment3 = LineSegment(Point(10, 0), Point(0, 10))\n",
    "line_segment4 = LineSegment(Point(0, 0), Point(10, 10))\n",
    "\n",
    "assert not line_segment1.intersects(line_segment2)\n",
    "assert line_segment1.intersects(line_segment3)\n",
    "assert line_segment3.intersects(line_segment4)"
   ]
  },
  {
   "cell_type": "code",
   "execution_count": 18,
   "metadata": {
    "tags": [
     "pybryt"
    ]
   },
   "outputs": [
    {
     "ename": "TypeError",
     "evalue": "'MemoryFootprintIterator' object is not iterable",
     "output_type": "error",
     "traceback": [
      "\u001b[1;31m---------------------------------------------------------------------------\u001b[0m",
      "\u001b[1;31mAttributeError\u001b[0m                            Traceback (most recent call last)",
      "Cell \u001b[1;32mIn[18], line 5\u001b[0m\n\u001b[0;32m      3\u001b[0m l2 \u001b[38;5;241m=\u001b[39m LineSegment(Point(\u001b[38;5;241m0\u001b[39m, \u001b[38;5;241m1\u001b[39m), Point(\u001b[38;5;241m1\u001b[39m, \u001b[38;5;241m0\u001b[39m))\n\u001b[1;32m----> 5\u001b[0m \u001b[38;5;28mrepr\u001b[39m(l1)\n\u001b[0;32m      6\u001b[0m l1\u001b[38;5;241m.\u001b[39mlength()\n",
      "Cell \u001b[1;32mIn[15], line 7\u001b[0m, in \u001b[0;36mLineSegment.__repr__\u001b[1;34m(self)\u001b[0m\n\u001b[0;32m      6\u001b[0m \u001b[38;5;28;01mdef\u001b[39;00m\u001b[38;5;250m \u001b[39m\u001b[38;5;21m__repr__\u001b[39m(\u001b[38;5;28mself\u001b[39m):\n\u001b[1;32m----> 7\u001b[0m     \u001b[38;5;28;01mreturn\u001b[39;00m \u001b[38;5;124mf\u001b[39m\u001b[38;5;124m\"\u001b[39m\u001b[38;5;124mLineSegment(\u001b[39m\u001b[38;5;132;01m{\u001b[39;00m\u001b[38;5;28mself\u001b[39m\u001b[38;5;241m.\u001b[39mstart\u001b[38;5;132;01m}\u001b[39;00m\u001b[38;5;124m, \u001b[39m\u001b[38;5;132;01m{\u001b[39;00m\u001b[38;5;28mself\u001b[39m\u001b[38;5;241m.\u001b[39mend\u001b[38;5;132;01m}\u001b[39;00m\u001b[38;5;124m)\u001b[39m\u001b[38;5;124m\"\u001b[39m\n",
      "\u001b[1;31mAttributeError\u001b[0m: 'LineSegment' object has no attribute 'start'",
      "\nDuring handling of the above exception, another exception occurred:\n",
      "\u001b[1;31mTypeError\u001b[0m                                 Traceback (most recent call last)",
      "Cell \u001b[1;32mIn[18], line 1\u001b[0m\n\u001b[1;32m----> 1\u001b[0m \u001b[38;5;28;01mwith\u001b[39;00m pybryt\u001b[38;5;241m.\u001b[39mcheck(pybryt_reference(\u001b[38;5;241m5\u001b[39m, \u001b[38;5;241m2\u001b[39m)):\n\u001b[0;32m      2\u001b[0m     l1 \u001b[38;5;241m=\u001b[39m LineSegment(Point(\u001b[38;5;241m0\u001b[39m, \u001b[38;5;241m0\u001b[39m), Point(\u001b[38;5;241m1\u001b[39m, \u001b[38;5;241m1\u001b[39m))\n\u001b[0;32m      3\u001b[0m     l2 \u001b[38;5;241m=\u001b[39m LineSegment(Point(\u001b[38;5;241m0\u001b[39m, \u001b[38;5;241m1\u001b[39m), Point(\u001b[38;5;241m1\u001b[39m, \u001b[38;5;241m0\u001b[39m))\n",
      "File \u001b[1;32mD:\\anaconda3\\Lib\\site-packages\\pybryt\\student.py:409\u001b[0m, in \u001b[0;36mcheck.__exit__\u001b[1;34m(self, exc_type, exc_value, traceback)\u001b[0m\n\u001b[0;32m    407\u001b[0m footprint \u001b[38;5;241m=\u001b[39m \u001b[38;5;28mself\u001b[39m\u001b[38;5;241m.\u001b[39m_frame_tracer\u001b[38;5;241m.\u001b[39mget_footprint()\n\u001b[0;32m    408\u001b[0m stu \u001b[38;5;241m=\u001b[39m StudentImplementation\u001b[38;5;241m.\u001b[39mfrom_footprint(footprint)\n\u001b[1;32m--> 409\u001b[0m res \u001b[38;5;241m=\u001b[39m stu\u001b[38;5;241m.\u001b[39mcheck(\u001b[38;5;28mself\u001b[39m\u001b[38;5;241m.\u001b[39m_ref, group\u001b[38;5;241m=\u001b[39m\u001b[38;5;28mself\u001b[39m\u001b[38;5;241m.\u001b[39m_group)\n\u001b[0;32m    410\u001b[0m report \u001b[38;5;241m=\u001b[39m generate_report(res, show_only\u001b[38;5;241m=\u001b[39m\u001b[38;5;28mself\u001b[39m\u001b[38;5;241m.\u001b[39m_show_only)\n\u001b[0;32m    411\u001b[0m \u001b[38;5;28;01mif\u001b[39;00m report:\n",
      "File \u001b[1;32mD:\\anaconda3\\Lib\\site-packages\\pybryt\\student.py:214\u001b[0m, in \u001b[0;36mStudentImplementation.check\u001b[1;34m(self, ref, group)\u001b[0m\n\u001b[0;32m    212\u001b[0m     \u001b[38;5;28;01mreturn\u001b[39;00m ref\u001b[38;5;241m.\u001b[39mrun(\u001b[38;5;28mself\u001b[39m\u001b[38;5;241m.\u001b[39mfootprint, group\u001b[38;5;241m=\u001b[39mgroup)\n\u001b[0;32m    213\u001b[0m \u001b[38;5;28;01melif\u001b[39;00m \u001b[38;5;28misinstance\u001b[39m(ref, \u001b[38;5;28mlist\u001b[39m):\n\u001b[1;32m--> 214\u001b[0m     \u001b[38;5;28;01mreturn\u001b[39;00m [r\u001b[38;5;241m.\u001b[39mrun(\u001b[38;5;28mself\u001b[39m\u001b[38;5;241m.\u001b[39mfootprint, group\u001b[38;5;241m=\u001b[39mgroup) \u001b[38;5;28;01mfor\u001b[39;00m r \u001b[38;5;129;01min\u001b[39;00m ref]\n\u001b[0;32m    215\u001b[0m \u001b[38;5;28;01melse\u001b[39;00m:\n\u001b[0;32m    216\u001b[0m     \u001b[38;5;28;01mraise\u001b[39;00m \u001b[38;5;167;01mTypeError\u001b[39;00m(\u001b[38;5;124mf\u001b[39m\u001b[38;5;124m\"\u001b[39m\u001b[38;5;124mcheck cannot take values of type \u001b[39m\u001b[38;5;132;01m{\u001b[39;00m\u001b[38;5;28mtype\u001b[39m(ref)\u001b[38;5;132;01m}\u001b[39;00m\u001b[38;5;124m\"\u001b[39m)\n",
      "File \u001b[1;32mD:\\anaconda3\\Lib\\site-packages\\pybryt\\reference.py:138\u001b[0m, in \u001b[0;36mReferenceImplementation.run\u001b[1;34m(self, footprint, group)\u001b[0m\n\u001b[0;32m    136\u001b[0m results \u001b[38;5;241m=\u001b[39m []\n\u001b[0;32m    137\u001b[0m \u001b[38;5;28;01mfor\u001b[39;00m exp \u001b[38;5;129;01min\u001b[39;00m annots:\n\u001b[1;32m--> 138\u001b[0m     results\u001b[38;5;241m.\u001b[39mappend(exp\u001b[38;5;241m.\u001b[39mcheck(footprint))\n\u001b[0;32m    140\u001b[0m \u001b[38;5;28;01mreturn\u001b[39;00m ReferenceResult(\u001b[38;5;28mself\u001b[39m, results, group\u001b[38;5;241m=\u001b[39mgroup)\n",
      "File \u001b[1;32mD:\\anaconda3\\Lib\\site-packages\\pybryt\\annotations\\value.py:611\u001b[0m, in \u001b[0;36mReturnValue.check\u001b[1;34m(self, footprint)\u001b[0m\n\u001b[0;32m    610\u001b[0m \u001b[38;5;28;01mdef\u001b[39;00m\u001b[38;5;250m \u001b[39m\u001b[38;5;21mcheck\u001b[39m(\u001b[38;5;28mself\u001b[39m, footprint: MemoryFootprint) \u001b[38;5;241m-\u001b[39m\u001b[38;5;241m>\u001b[39m AnnotationResult:\n\u001b[1;32m--> 611\u001b[0m     satisfier \u001b[38;5;241m=\u001b[39m \u001b[38;5;28mself\u001b[39m\u001b[38;5;241m.\u001b[39m_get_satisfying_index(footprint)\n\u001b[0;32m    612\u001b[0m     \u001b[38;5;28;01mif\u001b[39;00m satisfier \u001b[38;5;129;01mis\u001b[39;00m \u001b[38;5;129;01mnot\u001b[39;00m \u001b[38;5;28;01mNone\u001b[39;00m \u001b[38;5;129;01mand\u001b[39;00m footprint\u001b[38;5;241m.\u001b[39mget_value(satisfier)\u001b[38;5;241m.\u001b[39mevent \u001b[38;5;129;01mnot\u001b[39;00m \u001b[38;5;129;01min\u001b[39;00m \u001b[38;5;28mtype\u001b[39m(\u001b[38;5;28mself\u001b[39m)\u001b[38;5;241m.\u001b[39m_VALID_EVENTS:\n\u001b[0;32m    613\u001b[0m         satisfier \u001b[38;5;241m=\u001b[39m \u001b[38;5;28;01mNone\u001b[39;00m\n",
      "File \u001b[1;32mD:\\anaconda3\\Lib\\site-packages\\pybryt\\annotations\\value.py:169\u001b[0m, in \u001b[0;36mValue._get_satisfying_index\u001b[1;34m(self, footprint)\u001b[0m\n\u001b[0;32m    167\u001b[0m \u001b[38;5;28;01mif\u001b[39;00m \u001b[38;5;28misinstance\u001b[39m(expected_value, InitialCondition):\n\u001b[0;32m    168\u001b[0m     expected_value \u001b[38;5;241m=\u001b[39m expected_value\u001b[38;5;241m.\u001b[39msupply_footprint(footprint)\n\u001b[1;32m--> 169\u001b[0m satisfied \u001b[38;5;241m=\u001b[39m [\u001b[38;5;28mself\u001b[39m\u001b[38;5;241m.\u001b[39m_check_observed_value(expected_value, mfp_val\u001b[38;5;241m.\u001b[39mvalue) \u001b[38;5;28;01mfor\u001b[39;00m mfp_val \u001b[38;5;129;01min\u001b[39;00m footprint]\n\u001b[0;32m    170\u001b[0m \u001b[38;5;28;01mreturn\u001b[39;00m satisfied\u001b[38;5;241m.\u001b[39mindex(\u001b[38;5;28;01mTrue\u001b[39;00m) \u001b[38;5;28;01mif\u001b[39;00m \u001b[38;5;28many\u001b[39m(satisfied) \u001b[38;5;28;01melse\u001b[39;00m \u001b[38;5;28;01mNone\u001b[39;00m\n",
      "\u001b[1;31mTypeError\u001b[0m: 'MemoryFootprintIterator' object is not iterable"
     ]
    }
   ],
   "source": [
    "with pybryt.check(pybryt_reference(5, 2)):\n",
    "    l1 = LineSegment(Point(0, 0), Point(1, 1))\n",
    "    l2 = LineSegment(Point(0, 1), Point(1, 0))\n",
    "\n",
    "    repr(l1)\n",
    "    l1.length()\n",
    "    l2.midpoint().x\n",
    "    l2.midpoint().y\n",
    "    l1.intersects(l2)"
   ]
  },
  {
   "cell_type": "markdown",
   "metadata": {},
   "source": [
    "### The Triangle class Implementation\n",
    "\n",
    "Finally, we need to implement a `Triangle` class. We'll choose to use an initialisation method that takes three `Point` objects as arguments, and stores them as attributes of the object. We'll also want methods to calculate the area and perimeter of the triangle."
   ]
  },
  {
   "cell_type": "code",
   "execution_count": 19,
   "metadata": {},
   "outputs": [],
   "source": [
    "class Triangle:\n",
    "    def __init__(self, a: Point, b: Point, c: Point):\n",
    "        # Write appropriate code here, accepting three Points as arguments,\n",
    "        # representing the three vertices of the triangle.\n",
    "        pass\n",
    "\n",
    "    def area(self) -> float:\n",
    "        # Write appropriate code here, returning the area of the triangle.\n",
    "        # You can use the formula from lecture 4, or any other method you prefer\n",
    "        pass\n",
    "\n",
    "    def perimeter(self) -> float:\n",
    "        # Write appropriate code here, returning the perimeter of the triangle\n",
    "        pass"
   ]
  },
  {
   "cell_type": "code",
   "execution_count": 20,
   "metadata": {
    "tags": [
     "nbgrader"
    ]
   },
   "outputs": [
    {
     "ename": "TypeError",
     "evalue": "must be real number, not NoneType",
     "output_type": "error",
     "traceback": [
      "\u001b[1;31m---------------------------------------------------------------------------\u001b[0m",
      "\u001b[1;31mTypeError\u001b[0m                                 Traceback (most recent call last)",
      "Cell \u001b[1;32mIn[20], line 7\u001b[0m\n\u001b[0;32m      3\u001b[0m p3 \u001b[38;5;241m=\u001b[39m Point(\u001b[38;5;241m0\u001b[39m, \u001b[38;5;241m1\u001b[39m)\n\u001b[0;32m      5\u001b[0m t \u001b[38;5;241m=\u001b[39m Triangle(p1, p2, p3)\n\u001b[1;32m----> 7\u001b[0m \u001b[38;5;28;01massert\u001b[39;00m isclose(t\u001b[38;5;241m.\u001b[39marea(), \u001b[38;5;241m0.5\u001b[39m), \u001b[38;5;124m\"\u001b[39m\u001b[38;5;124mCheck your area calculation\u001b[39m\u001b[38;5;124m\"\u001b[39m\n\u001b[0;32m      8\u001b[0m \u001b[38;5;28;01massert\u001b[39;00m isclose(t\u001b[38;5;241m.\u001b[39mperimeter(), \u001b[38;5;241m1\u001b[39m \u001b[38;5;241m+\u001b[39m \u001b[38;5;241m1\u001b[39m \u001b[38;5;241m+\u001b[39m math\u001b[38;5;241m.\u001b[39msqrt(\u001b[38;5;241m2\u001b[39m)), \u001b[38;5;124m\"\u001b[39m\u001b[38;5;124mCheck your perimeter calculation\u001b[39m\u001b[38;5;124m\"\u001b[39m\n\u001b[0;32m      9\u001b[0m \u001b[38;5;28;01massert\u001b[39;00m isclose(t\u001b[38;5;241m.\u001b[39medges()[\u001b[38;5;241m0\u001b[39m], \u001b[38;5;241m1\u001b[39m)\n",
      "\u001b[1;31mTypeError\u001b[0m: must be real number, not NoneType"
     ]
    }
   ],
   "source": [
    "p1 = Point(0, 0)\n",
    "p2 = Point(1, 0)\n",
    "p3 = Point(0, 1)\n",
    "\n",
    "t = Triangle(p1, p2, p3)\n",
    "\n",
    "assert isclose(t.area(), 0.5), \"Check your area calculation\"\n",
    "assert isclose(t.perimeter(), 1 + 1 + math.sqrt(2)), \"Check your perimeter calculation\"\n",
    "assert isclose(t.edges()[0], 1)\n",
    "assert isclose(t.edges()[1], math.sqrt(2))\n",
    "assert isclose(t.edges()[2], 1)\n",
    "assert isclose(t.angles()[0], math.pi / 4)\n",
    "assert isclose(t.angles()[1], math.pi / 2)\n",
    "assert isclose(t.angles()[2], math.pi / 4)\n",
    "assert not t.contains_point(Point(1, 1))"
   ]
  },
  {
   "cell_type": "markdown",
   "metadata": {},
   "source": [
    "### Extending the Triangle Class\n",
    "\n",
    "- add a new method to the `Triangle` class, `edges()`, that returns a `tuple` containing the three `LineSegment`s which form the edges of the `Triangle`. \n",
    "The edges should be ordered so that the first vertex of the first edge is the first vertex of the triangle, and the second vertex of the first edge is the second vertex of the triangle, as well as being the first vertex of the second edge, and so on.\n",
    "- add a method to the `Triangle` class called  `angles()`. It should return a tuple of three floats, each representing the interior angle _in radians_ of the vertices of the triangle, ordered so that the first angle is at the first vertex of the triangle, and so on.\n",
    "- (more challenging) add a method to the `Triangle` class called `contains_point` that takes a `Point` object as an argument, and returns `True` if the point is inside (or on an edge of) the triangle, and `False` otherwise. You can use the following algorithm to solve this problem:\n",
    "  - For each edge of the triangle, calculate the normal vector to the edge.   you can do this by calculating\n",
    "    $$\\mathbf{n} = \\begin{pmatrix} y_2 - y_1 \\\\ x_1 - x_2 \\end{pmatrix},$$\n",
    "    where $(x_1, y_1)$ and $(x_2, y_2)$ are the coordinates of the two vertices of the edge.\n",
    "  - Calculate the vector from one of the vertices of the edge to the point.\n",
    "  - If the dot product of these two vectors is positive for all edges, then the point is inside the triangle. If the dot product is negative for any edge, then the point is outside the triangle. If the dot product is zero for an edge, (and positive for the others) then the point is on the edge of the triangle.\n",
    "  \n",
    "  You can use additional packages such as  `numpy`if you like, but it is not necessary.\n"
   ]
  },
  {
   "cell_type": "code",
   "execution_count": 21,
   "metadata": {
    "tags": [
     "nbgrader"
    ]
   },
   "outputs": [
    {
     "ename": "AttributeError",
     "evalue": "'Triangle' object has no attribute 'edges'",
     "output_type": "error",
     "traceback": [
      "\u001b[1;31m---------------------------------------------------------------------------\u001b[0m",
      "\u001b[1;31mAttributeError\u001b[0m                            Traceback (most recent call last)",
      "Cell \u001b[1;32mIn[21], line 7\u001b[0m\n\u001b[0;32m      3\u001b[0m p3 \u001b[38;5;241m=\u001b[39m Point(\u001b[38;5;241m0\u001b[39m, \u001b[38;5;241m1\u001b[39m)\n\u001b[0;32m      5\u001b[0m t \u001b[38;5;241m=\u001b[39m Triangle(p1, p2, p3)\n\u001b[1;32m----> 7\u001b[0m \u001b[38;5;28;01massert\u001b[39;00m isclose(t\u001b[38;5;241m.\u001b[39medges()[\u001b[38;5;241m0\u001b[39m], \u001b[38;5;241m1\u001b[39m)\n\u001b[0;32m      8\u001b[0m \u001b[38;5;28;01massert\u001b[39;00m isclose(t\u001b[38;5;241m.\u001b[39medges()[\u001b[38;5;241m1\u001b[39m], math\u001b[38;5;241m.\u001b[39msqrt(\u001b[38;5;241m2\u001b[39m))\n\u001b[0;32m      9\u001b[0m \u001b[38;5;28;01massert\u001b[39;00m isclose(t\u001b[38;5;241m.\u001b[39medges()[\u001b[38;5;241m2\u001b[39m], \u001b[38;5;241m1\u001b[39m)\n",
      "\u001b[1;31mAttributeError\u001b[0m: 'Triangle' object has no attribute 'edges'"
     ]
    }
   ],
   "source": [
    "p1 = Point(0, 0)\n",
    "p2 = Point(1, 0)\n",
    "p3 = Point(0, 1)\n",
    "\n",
    "t = Triangle(p1, p2, p3)\n",
    "\n",
    "assert isclose(t.edges()[0], 1)\n",
    "assert isclose(t.edges()[1], math.sqrt(2))\n",
    "assert isclose(t.edges()[2], 1)\n",
    "assert isclose(t.angles()[0], math.pi / 4)\n",
    "assert isclose(t.angles()[1], math.pi / 2)\n",
    "assert isclose(t.angles()[2], math.pi / 4)\n",
    "assert not t.contains_point(Point(1, 1))"
   ]
  },
  {
   "cell_type": "markdown",
   "metadata": {},
   "source": [
    "### Extending the shape design via inheritance (optional)\n",
    "\n",
    "- We can also extend functionality to allow for more shapes, such as squares, hexagons and so on. The \"best\" way to do this in Python is to define a new \"abstract\" class called `Polygon` that implements reusable methods for generic shapes (where possible) in terms of the Points or edges of the polygon, and then define a new class for each shape that inherits from `Polygon` as a base class and which implements the methods that are specific to that shape (for example the `area` method for a triangle is different to the `area` method for a square).\n",
    "\n",
    "By defining `Polygon` as "
   ]
  },
  {
   "cell_type": "code",
   "execution_count": 22,
   "metadata": {},
   "outputs": [],
   "source": [
    "from abc import ABC, abstractmethod\n",
    "\n",
    "\n",
    "class Polygon(ABC):\n",
    "    def __init__(self, vertices):\n",
    "        # Write appropriate code here, accepting a collection\n",
    "        # of Points as arguments, a representing a vertex of the polygon.\n",
    "        pass\n",
    "\n",
    "    def perimeter(self):\n",
    "        # Write appropriate code here, returning the perimeter of the polygon\n",
    "        # based on the stored vertices.\n",
    "        pass\n",
    "\n",
    "    def edges(self):\n",
    "        # Write appropriate code here, returning a tuple of LineSegments\n",
    "        # representing the edges of the polygon\n",
    "        pass\n",
    "\n",
    "    @abstractmethod\n",
    "    def area(self):\n",
    "        # Write appropriate code here, returning the area of the polygon\n",
    "        raise NotImplementedError"
   ]
  },
  {
   "cell_type": "code",
   "execution_count": 23,
   "metadata": {},
   "outputs": [],
   "source": [
    "class Quadrilateral(Polygon):\n",
    "    def __init__(self, a, b, c, d):\n",
    "        # Here, super() will call the __init__ method of the parent class -\n",
    "        # Polygon.__init__().\n",
    "        super().__init__(a, b, c, d)\n",
    "\n",
    "    def area(self):\n",
    "        # Write appropriate code here, returning the area of the quadrilateral.\n",
    "        raise NotImplementedError"
   ]
  },
  {
   "cell_type": "markdown",
   "metadata": {},
   "source": [
    "## Example 3: Designing your own class\n",
    "\n",
    "### Problem Statement\n",
    "\n",
    "The final problem is always the most challenging: designing your own class from scratch. We'll give you a problem statement, and you'll need to design a class to solve it. The problem statement is as follows:\n",
    "\n",
    "Build a class to represent the data provided from a [weather station](https://en.wikipedia.org/wiki/Weather_station). The station has the following fixed data attached to it:\n",
    "- A name (a string)\n",
    "- A location (a tuple of two floats, representing the latitude and longitude)\n",
    "- A height above sea level (a float, representing the height in meters)\n",
    "\n",
    "The station also has (at a minimum) the following data that change over time:\n",
    "\n",
    "- A temperature (a float, representing the temperature in degrees Celsius)\n",
    "- A humidity (a float, representing the humidity as a percentage)\n",
    "- The pressure (a float, representing the pressure in hPa)\n",
    "\n",
    "The class should have methods to do the following:\n",
    "\n",
    "- An initialisation method (`__init__`) that takes the name, location, and height above sea level as arguments, and stores them, as well as doing some initialisation of the temperature, humidity and pressure (plus other variables if you've added them).\n",
    "- A method to update the temperature, humidity, and pressure.\n",
    "- Appropriately implemented `__str__` and `__repr__` methods.\n",
    "- Methods to calculate appropriate \"weather\" metrics, such as the [dew point](https://en.wikipedia.org/wiki/Dew_point) (it's ok to use the simplified formula), the [heat index](https://en.wikipedia.org/wiki/Heat_index), and so on, and to convert between different temperature scales (e.g. Celsius, Fahrenheit, Kelvin). You may want to make use of the `@property` decorator to make these methods feel like attributes to the user."
   ]
  },
  {
   "cell_type": "code",
   "execution_count": 24,
   "metadata": {},
   "outputs": [],
   "source": [
    "# Write your class here. As with previous examples, you may\n",
    "# want to test aspects of your class as you go along"
   ]
  }
 ],
 "metadata": {
  "kernelspec": {
   "display_name": "Python [conda env:base] *",
   "language": "python",
   "name": "conda-base-py"
  },
  "language_info": {
   "codemirror_mode": {
    "name": "ipython",
    "version": 3
   },
   "file_extension": ".py",
   "mimetype": "text/x-python",
   "name": "python",
   "nbconvert_exporter": "python",
   "pygments_lexer": "ipython3",
   "version": "3.13.5"
  }
 },
 "nbformat": 4,
 "nbformat_minor": 4
}
